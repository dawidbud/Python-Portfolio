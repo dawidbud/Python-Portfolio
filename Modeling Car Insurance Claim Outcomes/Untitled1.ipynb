{
  "nbformat": 4,
  "nbformat_minor": 0,
  "metadata": {
    "colab": {
      "provenance": []
    },
    "kernelspec": {
      "name": "python3",
      "display_name": "Python 3"
    },
    "language_info": {
      "name": "python"
    }
  },
  "cells": [
    {
      "cell_type": "code",
      "execution_count": null,
      "metadata": {
        "id": "ffo15S9XYPow"
      },
      "outputs": [],
      "source": [
        "# Import required modules\n",
        "import pandas as pd\n",
        "import numpy as np\n",
        "from statsmodels.formula.api import logit\n",
        "# Read in dataset\n",
        "cars = pd.read_csv(\"car_insurance.csv\")\n",
        "# Check for missing values\n",
        "cars.info()\n",
        "# Fill missing values with the mean\n",
        "cars[\"credit_score\"].fillna(cars[\"credit_score\"].mean(), inplace=True)\n",
        "cars[\"annual_mileage\"].fillna(cars[\"annual_mileage\"].mean(), inplace=True)\n",
        "# Empty list to store model results\n",
        "models = []\n",
        "# Feature columns\n",
        "features = cars.drop(columns=[\"id\", \"outcome\"]).columns\n",
        "print(features)\n",
        "# Loop through features\n",
        "for col in features:\n",
        "    # Create a model\n",
        "    model = logit(f\"outcome ~ {col}\", data=cars).fit()\n",
        "    # Add each model to the models list\n",
        "    models.append(model)\n",
        "print(models)\n",
        "# Empty list to store accuracies\n",
        "accuracies = []\n",
        "\n",
        "# Loop through models\n",
        "for feature in range(0, len(models)):\n",
        "    # Compute the confusion matrix\n",
        "    conf_matrix = models[feature].pred_table()\n",
        "    # True negatives\n",
        "    tn = conf_matrix[0,0]\n",
        "    # True positives\n",
        "    tp = conf_matrix[1,1]\n",
        "    # False negatives\n",
        "    fn = conf_matrix[1,0]\n",
        "    # False positives\n",
        "    fp = conf_matrix[0,1]\n",
        "    # Compute accuracy\n",
        "    acc = (tn + tp) / (tn + fn + fp + tp)\n",
        "    accuracies.append(acc)\n",
        "# Find the feature with the largest accuracy\n",
        "best_feature = features[accuracies.index(max(accuracies))]\n",
        "\n",
        "# Create best_feature_df\n",
        "best_feature_df = pd.DataFrame({\"best_feature\": best_feature,\n",
        "                                \"best_accuracy\": max(accuracies)},\n",
        "                                index=[0])\n",
        "best_feature_df\n",
        "print(accuracies)"
      ]
    }
  ]
}